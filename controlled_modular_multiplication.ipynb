{
 "cells": [
  {
   "cell_type": "code",
   "execution_count": 6,
   "id": "85c78f50",
   "metadata": {},
   "outputs": [],
   "source": [
    "#controlled modular multiplcation: https://arxiv.org/abs/quant-ph/0205095"
   ]
  },
  {
   "cell_type": "code",
   "execution_count": 33,
   "id": "291e6a32",
   "metadata": {},
   "outputs": [],
   "source": [
    "# Note: This can be any hub/group/project that has access to the required device and the Qiskit runtime.\n",
    "hub = \"ibm-q\"\n",
    "group = \"open\"\n",
    "project = \"main\"\n",
    "backend_name = \"ibm_perth\"\n",
    "hgp = f\"{hub}/{group}/{project}\""
   ]
  },
  {
   "cell_type": "code",
   "execution_count": 2,
   "id": "b99e6e7e",
   "metadata": {},
   "outputs": [],
   "source": [
    "#fetch api_key\n",
    "with open(\"api_key.txt\",\"r\") as f:\n",
    "    api_key = f.read()"
   ]
  },
  {
   "cell_type": "code",
   "execution_count": 34,
   "id": "a4146f66",
   "metadata": {},
   "outputs": [
    {
     "name": "stdout",
     "output_type": "stream",
     "text": [
      "Using backend ibm_perth\n"
     ]
    }
   ],
   "source": [
    "import qiskit\n",
    "from qiskit_ibm_provider import IBMProvider\n",
    "\n",
    "# Save token if necessary\n",
    "IBMProvider.save_account(overwrite=True,token=api_key)\n",
    "\n",
    "# Get our backend\n",
    "provider = IBMProvider()\n",
    "available_backends = provider.backends()\n",
    "backend = provider.get_backend(backend_name, instance=hgp)\n",
    "print(f\"Using backend {backend.name}\")"
   ]
  },
  {
   "cell_type": "code",
   "execution_count": 56,
   "id": "210fbb9a",
   "metadata": {},
   "outputs": [],
   "source": [
    "from qiskit import QuantumCircuit, transpile, Aer"
   ]
  },
  {
   "cell_type": "code",
   "execution_count": 4,
   "id": "a0b3ce38",
   "metadata": {},
   "outputs": [],
   "source": [
    "\"\"\"Controlled multiplication by a mod 15\"\"\"\n",
    "def c_amod15(a, power):\n",
    "    if a not in [2,4,7,8,11,13]:\n",
    "        raise ValueError(\"'a' must be 2,4,7,8,11 or 13\")\n",
    "    U = QuantumCircuit(4)\n",
    "    for _iteration in range(power):\n",
    "        if a in [2,13]:\n",
    "            U.swap(2,3)\n",
    "            U.swap(1,2)\n",
    "            U.swap(0,1)\n",
    "        if a in [7,8]:\n",
    "            U.swap(0,1)\n",
    "            U.swap(1,2)\n",
    "            U.swap(2,3)\n",
    "        if a in [4, 11]:\n",
    "            U.swap(1,3)\n",
    "            U.swap(0,2)\n",
    "        if a in [7,11,13]:\n",
    "            for q in range(4):\n",
    "                U.x(q)\n",
    "    U = U.to_gate()\n",
    "    U.name = f\"{a}^{power} mod 15\"\n",
    "    c_U = U.control()\n",
    "    return c_U"
   ]
  },
  {
   "cell_type": "code",
   "execution_count": 7,
   "id": "d3005c7c",
   "metadata": {},
   "outputs": [
    {
     "data": {
      "text/plain": [
       "Instruction(name='c7^2 mod 15', num_qubits=5, num_clbits=0, params=[])"
      ]
     },
     "execution_count": 7,
     "metadata": {},
     "output_type": "execute_result"
    }
   ],
   "source": [
    "c_amod15(7,2**0)"
   ]
  },
  {
   "cell_type": "code",
   "execution_count": 81,
   "id": "a28ef9ed",
   "metadata": {},
   "outputs": [
    {
     "data": {
      "text/html": [
       "<pre style=\"word-wrap: normal;white-space: pre;background: #fff0;line-height: 1.1;font-family: &quot;Courier New&quot;,Courier,monospace\">     ┌───┐               ┌─┐            \n",
       "q_0: ┤ X ├───────■───────┤M├────────────\n",
       "     ├───┤┌──────┴──────┐└╥┘┌─┐         \n",
       "q_1: ┤ X ├┤0            ├─╫─┤M├─────────\n",
       "     ├───┤│             │ ║ └╥┘┌─┐      \n",
       "q_2: ┤ X ├┤1            ├─╫──╫─┤M├──────\n",
       "     ├───┤│  7^1 mod 15 │ ║  ║ └╥┘┌─┐   \n",
       "q_3: ┤ X ├┤2            ├─╫──╫──╫─┤M├───\n",
       "     └───┘│             │ ║  ║  ║ └╥┘┌─┐\n",
       "q_4: ─────┤3            ├─╫──╫──╫──╫─┤M├\n",
       "          └─────────────┘ ║  ║  ║  ║ └╥┘\n",
       "c: 5/═════════════════════╩══╩══╩══╩══╩═\n",
       "                          0  1  2  3  4 </pre>"
      ],
      "text/plain": [
       "     ┌───┐               ┌─┐            \n",
       "q_0: ┤ X ├───────■───────┤M├────────────\n",
       "     ├───┤┌──────┴──────┐└╥┘┌─┐         \n",
       "q_1: ┤ X ├┤0            ├─╫─┤M├─────────\n",
       "     ├───┤│             │ ║ └╥┘┌─┐      \n",
       "q_2: ┤ X ├┤1            ├─╫──╫─┤M├──────\n",
       "     ├───┤│  7^1 mod 15 │ ║  ║ └╥┘┌─┐   \n",
       "q_3: ┤ X ├┤2            ├─╫──╫──╫─┤M├───\n",
       "     └───┘│             │ ║  ║  ║ └╥┘┌─┐\n",
       "q_4: ─────┤3            ├─╫──╫──╫──╫─┤M├\n",
       "          └─────────────┘ ║  ║  ║  ║ └╥┘\n",
       "c: 5/═════════════════════╩══╩══╩══╩══╩═\n",
       "                          0  1  2  3  4 "
      ]
     },
     "execution_count": 81,
     "metadata": {},
     "output_type": "execute_result"
    }
   ],
   "source": [
    "qc=QuantumCircuit(5,5)\n",
    "qc.x(0)\n",
    "qc.x(1)\n",
    "qc.x(2)\n",
    "qc.x(3)\n",
    "#qc.x(4)\n",
    "qc.append(c_amod15(7,2**0),[0]+[1+i for i in range(4)])\n",
    "qc.measure(range(5), range(5))\n",
    "qc.draw()"
   ]
  },
  {
   "cell_type": "code",
   "execution_count": 82,
   "id": "eac4b757",
   "metadata": {},
   "outputs": [
    {
     "data": {
      "image/png": "[encoded data removed]",
      "text/plain": [
       "<Figure size 700x500 with 1 Axes>"
      ]
     },
     "execution_count": 82,
     "metadata": {},
     "output_type": "execute_result"
    }
   ],
   "source": [
    "from qiskit.visualization import plot_histogram\n",
    "aer_sim = Aer.get_backend('aer_simulator')\n",
    "t_qc = transpile(qc, aer_sim)\n",
    "counts = aer_sim.run(t_qc).result().get_counts()\n",
    "plot_histogram(counts)"
   ]
  },
  {
   "cell_type": "code",
   "execution_count": null,
   "id": "8920483c",
   "metadata": {},
   "outputs": [],
   "source": []
  }
 ],
 "metadata": {
  "kernelspec": {
   "display_name": "Python 3 (ipykernel)",
   "language": "python",
   "name": "python3"
  },
  "language_info": {
   "codemirror_mode": {
    "name": "ipython",
    "version": 3
   },
   "file_extension": ".py",
   "mimetype": "text/x-python",
   "name": "python",
   "nbconvert_exporter": "python",
   "pygments_lexer": "ipython3",
   "version": "3.7.9"
  }
 },
 "nbformat": 4,
 "nbformat_minor": 5
}
