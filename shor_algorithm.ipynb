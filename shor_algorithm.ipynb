{
 "cells": [
  {
   "cell_type": "code",
   "execution_count": 1,
   "id": "17ab7037",
   "metadata": {},
   "outputs": [],
   "source": [
    "#Shor's Algorithm Qiskit: https://learn.qiskit.org/course/ch-algorithms/shors-algorithm\n",
    "#controlled multiplcation circuits: https://arxiv.org/abs/quant-ph/0205095"
   ]
  },
  {
   "cell_type": "code",
   "execution_count": 3,
   "id": "3cf3a223",
   "metadata": {},
   "outputs": [],
   "source": [
    "# Ignoring warnings\n",
    "import sys\n",
    "import warnings\n",
    "\n",
    "if not sys.warnoptions:\n",
    "    warnings.simplefilter(\"ignore\")"
   ]
  },
  {
   "cell_type": "code",
   "execution_count": 14,
   "id": "fd2ab75b",
   "metadata": {},
   "outputs": [],
   "source": [
    "# Note: This can be any hub/group/project that has access to the required device and the Qiskit runtime.\n",
    "hub = \"ibm-q\"\n",
    "group = \"open\"\n",
    "project = \"main\"\n",
    "backend_name = \"ibm_brisbane\"\n",
    "hgp = f\"{hub}/{group}/{project}\""
   ]
  },
  {
   "cell_type": "code",
   "execution_count": 15,
   "id": "cc09d924",
   "metadata": {},
   "outputs": [],
   "source": [
    "#fetch api_key\n",
    "with open(\"api_key.txt\",\"r\") as f:\n",
    "    api_key = f.read()"
   ]
  },
  {
   "cell_type": "code",
   "execution_count": 16,
   "id": "08dff487",
   "metadata": {},
   "outputs": [
    {
     "name": "stdout",
     "output_type": "stream",
     "text": [
      "Using backend ibm_brisbane\n"
     ]
    }
   ],
   "source": [
    "import qiskit\n",
    "from qiskit_ibm_provider import IBMProvider\n",
    "\n",
    "# Save token if necessary\n",
    "IBMProvider.save_account(overwrite=True,token=api_key)\n",
    "\n",
    "# Get our backend\n",
    "provider = IBMProvider()\n",
    "available_backends = provider.backends()\n",
    "backend = provider.get_backend(backend_name, instance=hgp)\n",
    "print(f\"Using backend {backend.name}\")"
   ]
  },
  {
   "cell_type": "code",
   "execution_count": 17,
   "id": "8bb4c6df-3fd9-49d3-aadf-4cf849a23703",
   "metadata": {
    "tags": []
   },
   "outputs": [
    {
     "name": "stdout",
     "output_type": "stream",
     "text": [
      "Imports Successful\n"
     ]
    }
   ],
   "source": [
    "import matplotlib.pyplot as plt\n",
    "import numpy as np\n",
    "from qiskit import QuantumCircuit, transpile\n",
    "from qiskit_aer import Aer\n",
    "from qiskit.visualization import plot_histogram\n",
    "from math import gcd\n",
    "from numpy.random import randint\n",
    "import pandas as pd\n",
    "from fractions import Fraction\n",
    "print(\"Imports Successful\")"
   ]
  },
  {
   "cell_type": "code",
   "execution_count": 8,
   "id": "666d5a5a-f3ce-4d8f-93ec-facc084778e5",
   "metadata": {
    "tags": []
   },
   "outputs": [],
   "source": [
    "def c_amod15(a, power):\n",
    "    \"\"\"Controlled multiplication by a mod 15\"\"\"\n",
    "    if a not in [2,4,7,8,11,13]:\n",
    "        raise ValueError(\"'a' must be 2,4,7,8,11 or 13\")\n",
    "    U = QuantumCircuit(4)\n",
    "    for _iteration in range(power):\n",
    "        if a in [2,13]:\n",
    "            U.swap(2,3)\n",
    "            U.swap(1,2)\n",
    "            U.swap(0,1)\n",
    "        if a in [7,8]:\n",
    "            U.swap(0,1)\n",
    "            U.swap(1,2)\n",
    "            U.swap(2,3)\n",
    "        if a in [4, 11]:\n",
    "            U.swap(1,3)\n",
    "            U.swap(0,2)\n",
    "        if a in [7,11,13]:\n",
    "            for q in range(4):\n",
    "                U.x(q)\n",
    "    U = U.to_gate()\n",
    "    U.name = f\"{a}^{power} mod 15\"\n",
    "    c_U = U.control()\n",
    "    return c_U"
   ]
  },
  {
   "cell_type": "code",
   "execution_count": 9,
   "id": "f4b3f259-a0cb-416a-8ad5-8feccd6d216f",
   "metadata": {
    "tags": []
   },
   "outputs": [],
   "source": [
    "# Specify variables\n",
    "N_COUNT = 8  # number of counting qubits\n",
    "a = 7"
   ]
  },
  {
   "cell_type": "code",
   "execution_count": 10,
   "id": "104654ed-284a-40ae-9159-730451c1d0a1",
   "metadata": {
    "tags": []
   },
   "outputs": [],
   "source": [
    "def qft_dagger(n):\n",
    "    \"\"\"n-qubit QFTdagger the first n qubits in circ\"\"\"\n",
    "    qc = QuantumCircuit(n)\n",
    "    # Don't forget the Swaps!\n",
    "    for qubit in range(n//2):\n",
    "        qc.swap(qubit, n-qubit-1)\n",
    "    for j in range(n):\n",
    "        for m in range(j):\n",
    "            qc.cp(-np.pi/float(2**(j-m)), m, j)\n",
    "        qc.h(j)\n",
    "    qc.name = \"QFT†\"\n",
    "    return qc"
   ]
  },
  {
   "cell_type": "code",
   "execution_count": 11,
   "id": "1c8eb594-eec9-4105-9337-6337f949f96a",
   "metadata": {
    "tags": []
   },
   "outputs": [
    {
     "data": {
      "text/html": [
       "<pre style=\"word-wrap: normal;white-space: pre;background: #fff0;line-height: 1.1;font-family: &quot;Courier New&quot;,Courier,monospace\">      ┌───┐                                                                                                                             ┌───────┐┌─┐                     \n",
       " q_0: ┤ H ├───────■─────────────────────────────────────────────────────────────────────────────────────────────────────────────────────┤0      ├┤M├─────────────────────\n",
       "      ├───┤       │                                                                                                                     │       │└╥┘┌─┐                  \n",
       " q_1: ┤ H ├───────┼──────────────■──────────────────────────────────────────────────────────────────────────────────────────────────────┤1      ├─╫─┤M├──────────────────\n",
       "      ├───┤       │              │                                                                                                      │       │ ║ └╥┘┌─┐               \n",
       " q_2: ┤ H ├───────┼──────────────┼──────────────■───────────────────────────────────────────────────────────────────────────────────────┤2      ├─╫──╫─┤M├───────────────\n",
       "      ├───┤       │              │              │                                                                                       │       │ ║  ║ └╥┘┌─┐            \n",
       " q_3: ┤ H ├───────┼──────────────┼──────────────┼──────────────■────────────────────────────────────────────────────────────────────────┤3      ├─╫──╫──╫─┤M├────────────\n",
       "      ├───┤       │              │              │              │                                                                        │  QFT† │ ║  ║  ║ └╥┘┌─┐         \n",
       " q_4: ┤ H ├───────┼──────────────┼──────────────┼──────────────┼──────────────■─────────────────────────────────────────────────────────┤4      ├─╫──╫──╫──╫─┤M├─────────\n",
       "      ├───┤       │              │              │              │              │                                                         │       │ ║  ║  ║  ║ └╥┘┌─┐      \n",
       " q_5: ┤ H ├───────┼──────────────┼──────────────┼──────────────┼──────────────┼───────────────■─────────────────────────────────────────┤5      ├─╫──╫──╫──╫──╫─┤M├──────\n",
       "      ├───┤       │              │              │              │              │               │                                         │       │ ║  ║  ║  ║  ║ └╥┘┌─┐   \n",
       " q_6: ┤ H ├───────┼──────────────┼──────────────┼──────────────┼──────────────┼───────────────┼───────────────■─────────────────────────┤6      ├─╫──╫──╫──╫──╫──╫─┤M├───\n",
       "      ├───┤       │              │              │              │              │               │               │                         │       │ ║  ║  ║  ║  ║  ║ └╥┘┌─┐\n",
       " q_7: ┤ H ├───────┼──────────────┼──────────────┼──────────────┼──────────────┼───────────────┼───────────────┼────────────────■────────┤7      ├─╫──╫──╫──╫──╫──╫──╫─┤M├\n",
       "      ├───┤┌──────┴──────┐┌──────┴──────┐┌──────┴──────┐┌──────┴──────┐┌──────┴───────┐┌──────┴───────┐┌──────┴───────┐┌───────┴───────┐└───────┘ ║  ║  ║  ║  ║  ║  ║ └╥┘\n",
       " q_8: ┤ X ├┤0            ├┤0            ├┤0            ├┤0            ├┤0             ├┤0             ├┤0             ├┤0              ├──────────╫──╫──╫──╫──╫──╫──╫──╫─\n",
       "      └───┘│             ││             ││             ││             ││              ││              ││              ││               │          ║  ║  ║  ║  ║  ║  ║  ║ \n",
       " q_9: ─────┤1            ├┤1            ├┤1            ├┤1            ├┤1             ├┤1             ├┤1             ├┤1              ├──────────╫──╫──╫──╫──╫──╫──╫──╫─\n",
       "           │  7^1 mod 15 ││  7^2 mod 15 ││  7^4 mod 15 ││  7^8 mod 15 ││  7^16 mod 15 ││  7^32 mod 15 ││  7^64 mod 15 ││  7^128 mod 15 │          ║  ║  ║  ║  ║  ║  ║  ║ \n",
       "q_10: ─────┤2            ├┤2            ├┤2            ├┤2            ├┤2             ├┤2             ├┤2             ├┤2              ├──────────╫──╫──╫──╫──╫──╫──╫──╫─\n",
       "           │             ││             ││             ││             ││              ││              ││              ││               │          ║  ║  ║  ║  ║  ║  ║  ║ \n",
       "q_11: ─────┤3            ├┤3            ├┤3            ├┤3            ├┤3             ├┤3             ├┤3             ├┤3              ├──────────╫──╫──╫──╫──╫──╫──╫──╫─\n",
       "           └─────────────┘└─────────────┘└─────────────┘└─────────────┘└──────────────┘└──────────────┘└──────────────┘└───────────────┘          ║  ║  ║  ║  ║  ║  ║  ║ \n",
       " c: 8/════════════════════════════════════════════════════════════════════════════════════════════════════════════════════════════════════════════╩══╩══╩══╩══╩══╩══╩══╩═\n",
       "                                                                                                                                                  0  1  2  3  4  5  6  7 </pre>"
      ],
      "text/plain": [
       "      ┌───┐                                                                                                                             ┌───────┐┌─┐                     \n",
       " q_0: ┤ H ├───────■─────────────────────────────────────────────────────────────────────────────────────────────────────────────────────┤0      ├┤M├─────────────────────\n",
       "      ├───┤       │                                                                                                                     │       │└╥┘┌─┐                  \n",
       " q_1: ┤ H ├───────┼──────────────■──────────────────────────────────────────────────────────────────────────────────────────────────────┤1      ├─╫─┤M├──────────────────\n",
       "      ├───┤       │              │                                                                                                      │       │ ║ └╥┘┌─┐               \n",
       " q_2: ┤ H ├───────┼──────────────┼──────────────■───────────────────────────────────────────────────────────────────────────────────────┤2      ├─╫──╫─┤M├───────────────\n",
       "      ├───┤       │              │              │                                                                                       │       │ ║  ║ └╥┘┌─┐            \n",
       " q_3: ┤ H ├───────┼──────────────┼──────────────┼──────────────■────────────────────────────────────────────────────────────────────────┤3      ├─╫──╫──╫─┤M├────────────\n",
       "      ├───┤       │              │              │              │                                                                        │  QFT† │ ║  ║  ║ └╥┘┌─┐         \n",
       " q_4: ┤ H ├───────┼──────────────┼──────────────┼──────────────┼──────────────■─────────────────────────────────────────────────────────┤4      ├─╫──╫──╫──╫─┤M├─────────\n",
       "      ├───┤       │              │              │              │              │                                                         │       │ ║  ║  ║  ║ └╥┘┌─┐      \n",
       " q_5: ┤ H ├───────┼──────────────┼──────────────┼──────────────┼──────────────┼───────────────■─────────────────────────────────────────┤5      ├─╫──╫──╫──╫──╫─┤M├──────\n",
       "      ├───┤       │              │              │              │              │               │                                         │       │ ║  ║  ║  ║  ║ └╥┘┌─┐   \n",
       " q_6: ┤ H ├───────┼──────────────┼──────────────┼──────────────┼──────────────┼───────────────┼───────────────■─────────────────────────┤6      ├─╫──╫──╫──╫──╫──╫─┤M├───\n",
       "      ├───┤       │              │              │              │              │               │               │                         │       │ ║  ║  ║  ║  ║  ║ └╥┘┌─┐\n",
       " q_7: ┤ H ├───────┼──────────────┼──────────────┼──────────────┼──────────────┼───────────────┼───────────────┼────────────────■────────┤7      ├─╫──╫──╫──╫──╫──╫──╫─┤M├\n",
       "      ├───┤┌──────┴──────┐┌──────┴──────┐┌──────┴──────┐┌──────┴──────┐┌──────┴───────┐┌──────┴───────┐┌──────┴───────┐┌───────┴───────┐└───────┘ ║  ║  ║  ║  ║  ║  ║ └╥┘\n",
       " q_8: ┤ X ├┤0            ├┤0            ├┤0            ├┤0            ├┤0             ├┤0             ├┤0             ├┤0              ├──────────╫──╫──╫──╫──╫──╫──╫──╫─\n",
       "      └───┘│             ││             ││             ││             ││              ││              ││              ││               │          ║  ║  ║  ║  ║  ║  ║  ║ \n",
       " q_9: ─────┤1            ├┤1            ├┤1            ├┤1            ├┤1             ├┤1             ├┤1             ├┤1              ├──────────╫──╫──╫──╫──╫──╫──╫──╫─\n",
       "           │  7^1 mod 15 ││  7^2 mod 15 ││  7^4 mod 15 ││  7^8 mod 15 ││  7^16 mod 15 ││  7^32 mod 15 ││  7^64 mod 15 ││  7^128 mod 15 │          ║  ║  ║  ║  ║  ║  ║  ║ \n",
       "q_10: ─────┤2            ├┤2            ├┤2            ├┤2            ├┤2             ├┤2             ├┤2             ├┤2              ├──────────╫──╫──╫──╫──╫──╫──╫──╫─\n",
       "           │             ││             ││             ││             ││              ││              ││              ││               │          ║  ║  ║  ║  ║  ║  ║  ║ \n",
       "q_11: ─────┤3            ├┤3            ├┤3            ├┤3            ├┤3             ├┤3             ├┤3             ├┤3              ├──────────╫──╫──╫──╫──╫──╫──╫──╫─\n",
       "           └─────────────┘└─────────────┘└─────────────┘└─────────────┘└──────────────┘└──────────────┘└──────────────┘└───────────────┘          ║  ║  ║  ║  ║  ║  ║  ║ \n",
       " c: 8/════════════════════════════════════════════════════════════════════════════════════════════════════════════════════════════════════════════╩══╩══╩══╩══╩══╩══╩══╩═\n",
       "                                                                                                                                                  0  1  2  3  4  5  6  7 "
      ]
     },
     "execution_count": 11,
     "metadata": {},
     "output_type": "execute_result"
    }
   ],
   "source": [
    "# Create QuantumCircuit with N_COUNT counting qubits\n",
    "# plus 4 qubits for U to act on\n",
    "qc = QuantumCircuit(N_COUNT + 4, N_COUNT)\n",
    "\n",
    "# Initialize counting qubits\n",
    "# in state |+>\n",
    "for q in range(N_COUNT):\n",
    "    qc.h(q)\n",
    "\n",
    "# And auxiliary register in state |1>\n",
    "qc.x(N_COUNT)\n",
    "\n",
    "# Do controlled-U operations\n",
    "for q in range(N_COUNT):\n",
    "    qc.append(c_amod15(a, 2**q),\n",
    "             [q] + [i+N_COUNT for i in range(4)])\n",
    "\n",
    "# Do inverse-QFT\n",
    "qc.append(qft_dagger(N_COUNT), range(N_COUNT))\n",
    "\n",
    "# Measure circuit\n",
    "qc.measure(range(N_COUNT), range(N_COUNT))\n",
    "qc.draw(fold=-1)  # -1 means 'do not fold'"
   ]
  },
  {
   "cell_type": "code",
   "execution_count": 20,
   "id": "5d352c1f",
   "metadata": {},
   "outputs": [],
   "source": [
    "from qiskit_ibm_runtime import SamplerV2 as Sampler, QiskitRuntimeService\n",
    " \n",
    "# Define the service.  This allows you to access IBM QPUs.\n",
    "service = QiskitRuntimeService()\n",
    " \n",
    "# Get a backend, real or simulator\n",
    "backend = service.least_busy(operational=True, simulator=False)\n",
    "#backend = Aer.get_backend('aer_simulator')\n",
    " \n",
    "# Define Sampler\n",
    "sampler = Sampler(mode=backend)\n",
    "\n",
    "# transpile the circuit\n",
    "t_qc = transpile(qc, backend)\n",
    "\n",
    "# Run calculation\n",
    "job = sampler.run([t_qc])\n",
    " \n",
    "result = job.result()"
   ]
  },
  {
   "cell_type": "code",
   "execution_count": 21,
   "id": "b0f150c9-e608-46b5-b020-51c3ffd34fb4",
   "metadata": {
    "tags": []
   },
   "outputs": [
    {
     "data": {
      "image/png": "[encoded data removed]",
      "text/plain": [
       "<Figure size 640x480 with 1 Axes>"
      ]
     },
     "execution_count": 21,
     "metadata": {},
     "output_type": "execute_result"
    }
   ],
   "source": [
    "# Get the counts\n",
    "counts = result[0].data.c.get_counts()\n",
    "plot_histogram(counts)"
   ]
  },
  {
   "cell_type": "code",
   "execution_count": 22,
   "id": "7719918a-28ee-407a-9159-dcf160205d46",
   "metadata": {
    "tags": []
   },
   "outputs": [
    {
     "name": "stdout",
     "output_type": "stream",
     "text": [
      "              Register Output           Phase  Counts\n",
      "0    10101110(bin) = 174(dec)  174/256 = 0.68      22\n",
      "1    01110011(bin) = 115(dec)  115/256 = 0.45      15\n",
      "2    01101101(bin) = 109(dec)  109/256 = 0.43      31\n",
      "3    10111001(bin) = 185(dec)  185/256 = 0.72      26\n",
      "4    01111001(bin) = 121(dec)  121/256 = 0.47      35\n",
      "..                        ...             ...     ...\n",
      "251  00001110(bin) =  14(dec)   14/256 = 0.05       4\n",
      "252  11010110(bin) = 214(dec)  214/256 = 0.84       4\n",
      "253  00000100(bin) =   4(dec)    4/256 = 0.02       2\n",
      "254  11100011(bin) = 227(dec)  227/256 = 0.89       3\n",
      "255  00000010(bin) =   2(dec)    2/256 = 0.01       4\n",
      "\n",
      "[256 rows x 3 columns]\n",
      "         Phase Fraction  Guess for r\n",
      "0     0.679688     9/13           13\n",
      "1     0.679688     9/13           13\n",
      "2     0.679688     9/13           13\n",
      "3     0.679688     9/13           13\n",
      "4     0.679688     9/13           13\n",
      "...        ...      ...          ...\n",
      "4091  0.886719      8/9            9\n",
      "4092  0.007812      0/1            1\n",
      "4093  0.007812      0/1            1\n",
      "4094  0.007812      0/1            1\n",
      "4095  0.007812      0/1            1\n",
      "\n",
      "[4096 rows x 3 columns]\n"
     ]
    }
   ],
   "source": [
    "rows, measured_phases = [], []\n",
    "for output, count in counts.items():  # Now considering actual counts\n",
    "    decimal = int(output, 2)  # Convert (base 2) string to decimal\n",
    "    phase = decimal / (2**N_COUNT)  # Find corresponding eigenvalue\n",
    "    measured_phases.extend([phase] * count)  # Store phase weighted by count\n",
    "    rows.append([f\"{output}(bin) = {decimal:>3}(dec)\",\n",
    "                 f\"{decimal}/{2**N_COUNT} = {phase:.2f}\",\n",
    "                 count])  # Add count information\n",
    "\n",
    "# Print the table with count info\n",
    "headers = [\"Register Output\", \"Phase\", \"Counts\"]\n",
    "df = pd.DataFrame(rows, columns=headers)\n",
    "print(df)\n",
    "\n",
    "# Now, convert phases to fractions\n",
    "rows = []\n",
    "for phase in measured_phases:\n",
    "    frac = Fraction(phase).limit_denominator(15)\n",
    "    rows.append([phase,\n",
    "                 f\"{frac.numerator}/{frac.denominator}\",\n",
    "                 frac.denominator])\n",
    "\n",
    "# Print fraction table\n",
    "headers = [\"Phase\", \"Fraction\", \"Guess for r\"]\n",
    "df = pd.DataFrame(rows, columns=headers)\n",
    "print(df)\n"
   ]
  },
  {
   "cell_type": "code",
   "execution_count": 26,
   "id": "13184b4b-a0a8-41f1-b78d-8a0a0c8b5d63",
   "metadata": {
    "tags": []
   },
   "outputs": [
    {
     "name": "stdout",
     "output_type": "stream",
     "text": [
      "7\n"
     ]
    },
    {
     "data": {
      "text/plain": [
       "1"
      ]
     },
     "execution_count": 26,
     "metadata": {},
     "output_type": "execute_result"
    }
   ],
   "source": [
    "#find a suitable value a such that a and N are coprime\n",
    "from math import gcd # greatest common divisor\n",
    "N = 15\n",
    "np.random.seed(1) # This is to make sure we get reproduceable results\n",
    "a = randint(2, N)\n",
    "print(a)\n",
    "gcd(a, N)"
   ]
  },
  {
   "cell_type": "code",
   "execution_count": 24,
   "id": "20025ca7-71ed-4215-a8a4-a6d1ab5173a3",
   "metadata": {
    "tags": []
   },
   "outputs": [],
   "source": [
    "#quantum phase estimation for N=15 with manual U gates\n",
    "def qpe_amod15(a):\n",
    "    \"\"\"Performs quantum phase estimation on the operation a*r mod 15.\n",
    "    Args:\n",
    "        a (int): This is 'a' in a*r mod 15\n",
    "    Returns:\n",
    "        float: Estimate of the phase\n",
    "    \"\"\"\n",
    "    N_COUNT = 8\n",
    "    qc = QuantumCircuit(4+N_COUNT, N_COUNT)\n",
    "    for q in range(N_COUNT):\n",
    "        qc.h(q)     # Initialize counting qubits in state |+>\n",
    "    qc.x(3+N_COUNT) # And auxiliary register in state |1>\n",
    "    for q in range(N_COUNT): # Do controlled-U operations\n",
    "        qc.append(c_amod15(a, 2**q),\n",
    "                 [q] + [i+N_COUNT for i in range(4)])\n",
    "    qc.append(qft_dagger(N_COUNT), range(N_COUNT)) # Do inverse-QFT\n",
    "    qc.measure(range(N_COUNT), range(N_COUNT))\n",
    "    # Simulate Results\n",
    "    t_qc = transpile(qc, backend)\n",
    "    job = sampler.run([t_qc])\n",
    "    result = job.result()\n",
    "    counts = result[0].data.c.get_counts()\n",
    "    max_index = max(counts)\n",
    "    max_count = counts[max_index]\n",
    "    print(\"Register Reading: \" + str(max_count))\n",
    "    phase = max_count/(2**N_COUNT)\n",
    "    print(f\"Corresponding Phase: {phase}\")\n",
    "    return phase"
   ]
  },
  {
   "cell_type": "code",
   "execution_count": 27,
   "id": "e3307c70-8206-4d03-ae03-1831149fe68f",
   "metadata": {
    "tags": []
   },
   "outputs": [
    {
     "name": "stdout",
     "output_type": "stream",
     "text": [
      "Period:  1\n",
      "Guess for factors:  [15, 1]\n"
     ]
    }
   ],
   "source": [
    "#phase = qpe_amod15(a) # Phase = s/r\n",
    "Fraction(phase).limit_denominator(15)\n",
    "r = frac.denominator\n",
    "guesses = [gcd(a**(r//2)-1, N), gcd(a**(r//2)+1, N)]\n",
    "print(\"Period: \", r)\n",
    "print(\"Guess for factors: \",guesses)"
   ]
  },
  {
   "cell_type": "code",
   "execution_count": 46,
   "id": "fd95996d-c25b-4f38-9653-127b9893d87d",
   "metadata": {
    "tags": []
   },
   "outputs": [
    {
     "name": "stdout",
     "output_type": "stream",
     "text": [
      "\n",
      "ATTEMPT 1:\n",
      "Register Reading: 257\n",
      "Corresponding Phase: 1.00390625\n",
      "Result: r = 1\n",
      "Guessed Factors: 15 and 1\n",
      "\n",
      "ATTEMPT 2:\n",
      "Register Reading: 256\n",
      "Corresponding Phase: 1.0\n",
      "Result: r = 1\n",
      "Guessed Factors: 15 and 1\n",
      "\n",
      "ATTEMPT 3:\n",
      "Register Reading: 262\n",
      "Corresponding Phase: 1.0234375\n",
      "Result: r = 1\n",
      "Guessed Factors: 15 and 1\n",
      "\n",
      "ATTEMPT 4:\n",
      "Register Reading: 252\n",
      "Corresponding Phase: 0.984375\n",
      "Result: r = 1\n",
      "Guessed Factors: 15 and 1\n",
      "\n",
      "ATTEMPT 5:\n",
      "Register Reading: 260\n",
      "Corresponding Phase: 1.015625\n",
      "Result: r = 1\n",
      "Guessed Factors: 15 and 1\n",
      "\n",
      "ATTEMPT 6:\n",
      "Register Reading: 257\n",
      "Corresponding Phase: 1.00390625\n",
      "Result: r = 1\n",
      "Guessed Factors: 15 and 1\n",
      "\n",
      "ATTEMPT 7:\n",
      "Register Reading: 260\n",
      "Corresponding Phase: 1.015625\n",
      "Result: r = 1\n",
      "Guessed Factors: 15 and 1\n",
      "\n",
      "ATTEMPT 8:\n",
      "Register Reading: 273\n",
      "Corresponding Phase: 1.06640625\n",
      "Result: r = 15\n",
      "Guessed Factors: 3 and 1\n",
      "*** Non-trivial factor found: {guess} ***\n"
     ]
    }
   ],
   "source": [
    "a = 7\n",
    "FACTOR_FOUND = False\n",
    "ATTEMPT = 0\n",
    "while not FACTOR_FOUND:\n",
    "    ATTEMPT += 1\n",
    "    print(f\"\\nATTEMPT {ATTEMPT}:\")\n",
    "    phase = qpe_amod15(a) # Phase = s/r\n",
    "    frac = Fraction(phase).limit_denominator(N)\n",
    "    r = frac.denominator\n",
    "    print(f\"Result: r = {r}\")\n",
    "    if phase != 0:\n",
    "        # Guesses for factors are gcd(x^{r/2} ±1 , 15)\n",
    "        guesses = [gcd(a**(r//2)-1, N), gcd(a**(r//2)+1, N)]\n",
    "        print(f\"Guessed Factors: {guesses[0]} and {guesses[1]}\")\n",
    "        for guess in guesses:\n",
    "            if guess not in [1,N] and (N % guess) == 0:\n",
    "                # Guess is a factor!\n",
    "                print(\"*** Non-trivial factor found: {guess} ***\")\n",
    "                FACTOR_FOUND = True"
   ]
  },
  {
   "cell_type": "code",
   "execution_count": null,
   "id": "b2bac55e-3d98-4037-853e-9f4ec86fc9d2",
   "metadata": {},
   "outputs": [],
   "source": []
  }
 ],
 "metadata": {
  "kernelspec": {
   "display_name": "quantum",
   "language": "python",
   "name": "python3"
  },
  "language_info": {
   "codemirror_mode": {
    "name": "ipython",
    "version": 3
   },
   "file_extension": ".py",
   "mimetype": "text/x-python",
   "name": "python",
   "nbconvert_exporter": "python",
   "pygments_lexer": "ipython3",
   "version": "3.13.1"
  },
  "widgets": {
   "application/vnd.jupyter.widget-state+json": {
    "state": {
     "00e105fde3ea4c5da8c4da903e545238": {
      "model_module": "@jupyter-widgets/base",
      "model_module_version": "2.0.0",
      "model_name": "LayoutModel",
      "state": {
       "width": "70px"
      }
     },
     "0584a9946e2047e1bf5c4ac344fb31db": {
      "model_module": "@jupyter-widgets/controls",
      "model_module_version": "2.0.0",
      "model_name": "HTMLModel",
      "state": {
       "layout": "IPY_MODEL_07021f8209a44991a529faed6838e3a1",
       "style": "IPY_MODEL_17fc3e8858c9463faff1805e879869e0",
       "value": "<h5>Job ID</h5>"
      }
     },
     "07021f8209a44991a529faed6838e3a1": {
      "model_module": "@jupyter-widgets/base",
      "model_module_version": "2.0.0",
      "model_name": "LayoutModel",
      "state": {
       "width": "190px"
      }
     },
     "17fc3e8858c9463faff1805e879869e0": {
      "model_module": "@jupyter-widgets/controls",
      "model_module_version": "2.0.0",
      "model_name": "HTMLStyleModel",
      "state": {
       "description_width": "",
       "font_size": null,
       "text_color": null
      }
     },
     "324b1c1671634129b11fea1c3218066d": {
      "model_module": "@jupyter-widgets/controls",
      "model_module_version": "2.0.0",
      "model_name": "HTMLModel",
      "state": {
       "layout": "IPY_MODEL_3684290f57e4403fb6b802ef783a6ef1",
       "style": "IPY_MODEL_b33cfe28ba5b473ea8631c9cf520af02",
       "value": "<h5>Message</h5>"
      }
     },
     "3684290f57e4403fb6b802ef783a6ef1": {
      "model_module": "@jupyter-widgets/base",
      "model_module_version": "2.0.0",
      "model_name": "LayoutModel",
      "state": {}
     },
     "52b7cbf38cc341daa4bf1178724212e9": {
      "model_module": "@jupyter-widgets/controls",
      "model_module_version": "2.0.0",
      "model_name": "ButtonModel",
      "state": {
       "button_style": "primary",
       "description": "Clear",
       "layout": "IPY_MODEL_a4dfbe0567cb4547988279e13d781e31",
       "style": "IPY_MODEL_ce654ada95584172a94b45e766f00785",
       "tooltip": null
      }
     },
     "6026ea6bb31c441294c5129339f2473c": {
      "model_module": "@jupyter-widgets/controls",
      "model_module_version": "2.0.0",
      "model_name": "HTMLModel",
      "state": {
       "layout": "IPY_MODEL_c91e6083215c47868895f49e6c84b0ec",
       "style": "IPY_MODEL_9bbfff58f29f4d1b826c3e8b63a5c404",
       "value": "<h5>Status</h5>"
      }
     },
     "605db932aba441c58094dd5931dd37dd": {
      "model_module": "@jupyter-widgets/controls",
      "model_module_version": "2.0.0",
      "model_name": "HTMLModel",
      "state": {
       "layout": "IPY_MODEL_00e105fde3ea4c5da8c4da903e545238",
       "style": "IPY_MODEL_f139b4dd08c84181be95dd61221941a9",
       "value": "<h5>Queue</h5>"
      }
     },
     "636b16822788407489863b6520929cf7": {
      "model_module": "@jupyter-widgets/base",
      "model_module_version": "2.0.0",
      "model_name": "LayoutModel",
      "state": {
       "width": "145px"
      }
     },
     "7284d6d3682e4655959cc0759dc14795": {
      "model_module": "@jupyter-widgets/base",
      "model_module_version": "2.0.0",
      "model_name": "LayoutModel",
      "state": {
       "grid_template_areas": "\n                                       \". . . . right \"\n                                        ",
       "grid_template_columns": "20% 20% 20% 20% 20%",
       "width": "100%"
      }
     },
     "72ae1e40ddd9468b862c84f9b118848d": {
      "model_module": "@jupyter-widgets/controls",
      "model_module_version": "2.0.0",
      "model_name": "HTMLModel",
      "state": {
       "layout": "IPY_MODEL_636b16822788407489863b6520929cf7",
       "style": "IPY_MODEL_e8c791fc13af452b94463d7cdbbd2470",
       "value": "<h5>Backend</h5>"
      }
     },
     "9bbfff58f29f4d1b826c3e8b63a5c404": {
      "model_module": "@jupyter-widgets/controls",
      "model_module_version": "2.0.0",
      "model_name": "HTMLStyleModel",
      "state": {
       "description_width": "",
       "font_size": null,
       "text_color": null
      }
     },
     "a4dfbe0567cb4547988279e13d781e31": {
      "model_module": "@jupyter-widgets/base",
      "model_module_version": "2.0.0",
      "model_name": "LayoutModel",
      "state": {
       "grid_area": "right",
       "padding": "0px 0px 0px 0px",
       "width": "70px"
      }
     },
     "a71c2c37ecb64e2a97c47f605512976c": {
      "model_module": "@jupyter-widgets/base",
      "model_module_version": "2.0.0",
      "model_name": "LayoutModel",
      "state": {
       "margin": "0px 0px 10px 0px"
      }
     },
     "afc5ccdbf6e64dc680da40d0930988a4": {
      "model_module": "@jupyter-widgets/controls",
      "model_module_version": "2.0.0",
      "model_name": "GridBoxModel",
      "state": {
       "children": [
        "IPY_MODEL_52b7cbf38cc341daa4bf1178724212e9"
       ],
       "layout": "IPY_MODEL_7284d6d3682e4655959cc0759dc14795"
      }
     },
     "b33cfe28ba5b473ea8631c9cf520af02": {
      "model_module": "@jupyter-widgets/controls",
      "model_module_version": "2.0.0",
      "model_name": "HTMLStyleModel",
      "state": {
       "description_width": "",
       "font_size": null,
       "text_color": null
      }
     },
     "c91e6083215c47868895f49e6c84b0ec": {
      "model_module": "@jupyter-widgets/base",
      "model_module_version": "2.0.0",
      "model_name": "LayoutModel",
      "state": {
       "width": "95px"
      }
     },
     "ce654ada95584172a94b45e766f00785": {
      "model_module": "@jupyter-widgets/controls",
      "model_module_version": "2.0.0",
      "model_name": "ButtonStyleModel",
      "state": {
       "font_family": null,
       "font_size": null,
       "font_style": null,
       "font_variant": null,
       "font_weight": null,
       "text_color": null,
       "text_decoration": null
      }
     },
     "d97d5b5e8cb5414cba0433fd60e9993e": {
      "model_module": "@jupyter-widgets/controls",
      "model_module_version": "2.0.0",
      "model_name": "HBoxModel",
      "state": {
       "children": [
        "IPY_MODEL_0584a9946e2047e1bf5c4ac344fb31db",
        "IPY_MODEL_72ae1e40ddd9468b862c84f9b118848d",
        "IPY_MODEL_6026ea6bb31c441294c5129339f2473c",
        "IPY_MODEL_605db932aba441c58094dd5931dd37dd",
        "IPY_MODEL_324b1c1671634129b11fea1c3218066d"
       ],
       "layout": "IPY_MODEL_f5263e66c0444509858147abff3c715f"
      }
     },
     "e022dd4dd16345a2ba98cd856de5124d": {
      "model_module": "@jupyter-widgets/controls",
      "model_module_version": "2.0.0",
      "model_name": "HTMLStyleModel",
      "state": {
       "description_width": "",
       "font_size": null,
       "text_color": null
      }
     },
     "e8c791fc13af452b94463d7cdbbd2470": {
      "model_module": "@jupyter-widgets/controls",
      "model_module_version": "2.0.0",
      "model_name": "HTMLStyleModel",
      "state": {
       "description_width": "",
       "font_size": null,
       "text_color": null
      }
     },
     "f139b4dd08c84181be95dd61221941a9": {
      "model_module": "@jupyter-widgets/controls",
      "model_module_version": "2.0.0",
      "model_name": "HTMLStyleModel",
      "state": {
       "description_width": "",
       "font_size": null,
       "text_color": null
      }
     },
     "f5263e66c0444509858147abff3c715f": {
      "model_module": "@jupyter-widgets/base",
      "model_module_version": "2.0.0",
      "model_name": "LayoutModel",
      "state": {
       "margin": "0px 0px 0px 37px",
       "width": "600px"
      }
     },
     "fa6a978b033f4e28ae64ac3a4aa87d8f": {
      "model_module": "@jupyter-widgets/controls",
      "model_module_version": "2.0.0",
      "model_name": "HTMLModel",
      "state": {
       "layout": "IPY_MODEL_a71c2c37ecb64e2a97c47f605512976c",
       "style": "IPY_MODEL_e022dd4dd16345a2ba98cd856de5124d",
       "value": "<p style='font-family: IBM Plex Sans, Arial, Helvetica, sans-serif; font-size: 20px; font-weight: medium;'>Circuit Properties</p>"
      }
     }
    },
    "version_major": 2,
    "version_minor": 0
   }
  }
 },
 "nbformat": 4,
 "nbformat_minor": 5
}
