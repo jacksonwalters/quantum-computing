{
 "cells": [
  {
   "cell_type": "code",
   "execution_count": 1,
   "id": "81ead48d",
   "metadata": {},
   "outputs": [],
   "source": [
    "#controlled modular multiplcation: https://arxiv.org/abs/quant-ph/0205095\n",
    "#medium post: https://medium.com/mit-6-s089-intro-to-quantum-computing/a-general-implementation-of-shors-algorithm-da1595694430\n",
    "#draper paper: https://arxiv.org/pdf/quant-ph/0008033.pdf"
   ]
  },
  {
   "cell_type": "code",
   "execution_count": 1,
   "id": "3f79ab5d",
   "metadata": {},
   "outputs": [],
   "source": [
    "# Note: This can be any hub/group/project that has access to the required device and the Qiskit runtime.\n",
    "hub = \"ibm-q\"\n",
    "group = \"open\"\n",
    "project = \"main\"\n",
    "backend_name = \"ibm_brisbane\"\n",
    "hgp = f\"{hub}/{group}/{project}\""
   ]
  },
  {
   "cell_type": "code",
   "execution_count": 3,
   "id": "262ce607",
   "metadata": {},
   "outputs": [],
   "source": [
    "#fetch api_key\n",
    "with open(\"api_key.txt\",\"r\") as f:\n",
    "    api_key = f.read()"
   ]
  },
  {
   "cell_type": "code",
   "execution_count": 4,
   "id": "ff8ea9d8",
   "metadata": {},
   "outputs": [
    {
     "name": "stderr",
     "output_type": "stream",
     "text": [
      "/var/folders/tr/w3stjb6j0pg_svqnfxtymf0w0000gn/T/ipykernel_9261/3827830370.py:2: DeprecationWarning: The package qiskit_ibm_provider is being deprecated. Please see https://docs.quantum.ibm.com/api/migration-guides/qiskit-runtime to get instructions on how to migrate to qiskit-ibm-runtime (https://github.com/Qiskit/qiskit-ibm-runtime).\n",
      "  from qiskit_ibm_provider import IBMProvider\n"
     ]
    },
    {
     "name": "stdout",
     "output_type": "stream",
     "text": [
      "Using backend ibm_brisbane\n"
     ]
    }
   ],
   "source": [
    "import qiskit\n",
    "from qiskit_ibm_provider import IBMProvider\n",
    "\n",
    "# Save token if necessary\n",
    "IBMProvider.save_account(overwrite=True,token=api_key)\n",
    "\n",
    "# Get our backend\n",
    "provider = IBMProvider()\n",
    "available_backends = provider.backends()\n",
    "backend = provider.get_backend(backend_name, instance=hgp)\n",
    "print(f\"Using backend {backend.name}\")"
   ]
  },
  {
   "cell_type": "code",
   "execution_count": 5,
   "id": "f4a955ea",
   "metadata": {},
   "outputs": [],
   "source": [
    "from qiskit import QuantumCircuit, transpile\n",
    "from qiskit_aer import Aer"
   ]
  },
  {
   "cell_type": "code",
   "execution_count": 6,
   "id": "5bc8c5ae",
   "metadata": {},
   "outputs": [],
   "source": [
    "\"\"\"Controlled multiplication by a mod 15\"\"\"\n",
    "def c_amod15(a, power):\n",
    "    if a not in [2,4,7,8,11,13]:\n",
    "        raise ValueError(\"'a' must be 2,4,7,8,11 or 13\")\n",
    "    U = QuantumCircuit(4)\n",
    "    for _iteration in range(power):\n",
    "        if a in [2,13]:\n",
    "            U.swap(2,3)\n",
    "            U.swap(1,2)\n",
    "            U.swap(0,1)\n",
    "        if a in [7,8]:\n",
    "            U.swap(0,1)\n",
    "            U.swap(1,2)\n",
    "            U.swap(2,3)\n",
    "        if a in [4, 11]:\n",
    "            U.swap(1,3)\n",
    "            U.swap(0,2)\n",
    "        if a in [7,11,13]:\n",
    "            for q in range(4):\n",
    "                U.x(q)\n",
    "    U = U.to_gate()\n",
    "    U.name = f\"{a}^{power} mod 15\"\n",
    "    c_U = U.control()\n",
    "    return c_U"
   ]
  },
  {
   "cell_type": "code",
   "execution_count": 7,
   "id": "0fb07b28",
   "metadata": {},
   "outputs": [
    {
     "data": {
      "text/plain": [
       "Instruction(name='c7^1 mod 15', num_qubits=5, num_clbits=0, params=[])"
      ]
     },
     "execution_count": 7,
     "metadata": {},
     "output_type": "execute_result"
    }
   ],
   "source": [
    "c_amod15(7,2**0)"
   ]
  },
  {
   "cell_type": "code",
   "execution_count": 8,
   "id": "f5c9c268",
   "metadata": {},
   "outputs": [
    {
     "data": {
      "text/html": [
       "<pre style=\"word-wrap: normal;white-space: pre;background: #fff0;line-height: 1.1;font-family: &quot;Courier New&quot;,Courier,monospace\">     ┌───┐               ┌─┐            \n",
       "q_0: ┤ X ├───────■───────┤M├────────────\n",
       "     ├───┤┌──────┴──────┐└╥┘┌─┐         \n",
       "q_1: ┤ X ├┤0            ├─╫─┤M├─────────\n",
       "     ├───┤│             │ ║ └╥┘┌─┐      \n",
       "q_2: ┤ X ├┤1            ├─╫──╫─┤M├──────\n",
       "     ├───┤│  7^1 mod 15 │ ║  ║ └╥┘┌─┐   \n",
       "q_3: ┤ X ├┤2            ├─╫──╫──╫─┤M├───\n",
       "     └───┘│             │ ║  ║  ║ └╥┘┌─┐\n",
       "q_4: ─────┤3            ├─╫──╫──╫──╫─┤M├\n",
       "          └─────────────┘ ║  ║  ║  ║ └╥┘\n",
       "c: 5/═════════════════════╩══╩══╩══╩══╩═\n",
       "                          0  1  2  3  4 </pre>"
      ],
      "text/plain": [
       "     ┌───┐               ┌─┐            \n",
       "q_0: ┤ X ├───────■───────┤M├────────────\n",
       "     ├───┤┌──────┴──────┐└╥┘┌─┐         \n",
       "q_1: ┤ X ├┤0            ├─╫─┤M├─────────\n",
       "     ├───┤│             │ ║ └╥┘┌─┐      \n",
       "q_2: ┤ X ├┤1            ├─╫──╫─┤M├──────\n",
       "     ├───┤│  7^1 mod 15 │ ║  ║ └╥┘┌─┐   \n",
       "q_3: ┤ X ├┤2            ├─╫──╫──╫─┤M├───\n",
       "     └───┘│             │ ║  ║  ║ └╥┘┌─┐\n",
       "q_4: ─────┤3            ├─╫──╫──╫──╫─┤M├\n",
       "          └─────────────┘ ║  ║  ║  ║ └╥┘\n",
       "c: 5/═════════════════════╩══╩══╩══╩══╩═\n",
       "                          0  1  2  3  4 "
      ]
     },
     "execution_count": 8,
     "metadata": {},
     "output_type": "execute_result"
    }
   ],
   "source": [
    "qc=QuantumCircuit(5,5)\n",
    "qc.x(0)\n",
    "qc.x(1)\n",
    "qc.x(2)\n",
    "qc.x(3)\n",
    "#qc.x(4)\n",
    "qc.append(c_amod15(7,2**0),[0]+[1+i for i in range(4)])\n",
    "qc.measure(range(5), range(5))\n",
    "qc.draw()"
   ]
  },
  {
   "cell_type": "code",
   "execution_count": 11,
   "id": "8fdbd3a0",
   "metadata": {},
   "outputs": [
    {
     "data": {
      "image/png": "[encoded data removed]",
      "text/plain": [
       "<Figure size 640x480 with 1 Axes>"
      ]
     },
     "execution_count": 11,
     "metadata": {},
     "output_type": "execute_result"
    }
   ],
   "source": [
    "from qiskit.visualization import plot_histogram\n",
    "import matplotlib\n",
    "aer_sim = Aer.get_backend('aer_simulator')\n",
    "t_qc = transpile(qc, aer_sim)\n",
    "counts = aer_sim.run(t_qc).result().get_counts()\n",
    "plot_histogram(counts)"
   ]
  },
  {
   "cell_type": "code",
   "execution_count": 12,
   "id": "87535549",
   "metadata": {},
   "outputs": [],
   "source": [
    "import numpy as np\n",
    "from qiskit.circuit.library import QFT"
   ]
  },
  {
   "cell_type": "code",
   "execution_count": 13,
   "id": "9c27a6d5",
   "metadata": {},
   "outputs": [],
   "source": [
    "#build the phi adder circuit\n",
    "a=[0,0,1,1]\n",
    "b=[0,0,1,1]\n",
    "def phi_add(num_bits):\n",
    "    qc = QuantumCircuit(2*num_bits,num_bits)\n",
    "    #initialize a register\n",
    "    for i in range(len(a)):\n",
    "        if a[i] != 0: \n",
    "            qc.x(i)\n",
    "    #initialize b register\n",
    "    for i in range(len(b)):\n",
    "        if b[i] != 0: \n",
    "            qc.x(num_bits+i)\n",
    "    #append Fourier transform to second register\n",
    "    qc.append(QFT(num_qubits=num_bits,do_swaps=False),range(num_bits,2*num_bits))\n",
    "    #append controlled phase addition gates\n",
    "    for k in range(num_bits):\n",
    "        for j in range(num_bits-k):\n",
    "            qc.cp(2*np.pi/2**(j+1),control_qubit=num_bits-k-1-j,target_qubit=2*num_bits-k-1)\n",
    "    #append inverse Fourier transform to second register\n",
    "    qc.append(QFT(num_qubits=num_bits,do_swaps=False,inverse=True),range(num_bits,2*num_bits))\n",
    "    qc.measure(range(num_bits,2*num_bits), range(num_bits))\n",
    "    return qc"
   ]
  },
  {
   "cell_type": "code",
   "execution_count": 14,
   "id": "fff94ac5",
   "metadata": {},
   "outputs": [
    {
     "data": {
      "text/html": [
       "<pre style=\"word-wrap: normal;white-space: pre;background: #fff0;line-height: 1.1;font-family: &quot;Courier New&quot;,Courier,monospace\">                                                                             »\n",
       "q_0: ──────────────────────────────────────────────■─────────────────■───────»\n",
       "                                                   │                 │       »\n",
       "q_1: ──────────────────────────────■───────────────┼────────■────────┼───────»\n",
       "     ┌───┐                         │               │        │        │       »\n",
       "q_2: ┤ X ├────────────────■────────┼────────■──────┼────────┼────────┼───────»\n",
       "     ├───┤                │        │        │      │        │        │       »\n",
       "q_3: ┤ X ├─────────■──────┼────────┼────────┼──────┼────────┼────────┼───────»\n",
       "     └───┘┌──────┐ │      │        │        │      │        │        │       »\n",
       "q_4: ─────┤0     ├─┼──────┼────────┼────────┼──────┼────────┼────────┼───────»\n",
       "          │      │ │      │        │        │      │        │        │       »\n",
       "q_5: ─────┤1     ├─┼──────┼────────┼────────┼──────┼────────┼────────┼───────»\n",
       "     ┌───┐│  QFT │ │      │        │        │P(π)  │        │P(π/2)  │P(π/4) »\n",
       "q_6: ┤ X ├┤2     ├─┼──────┼────────┼────────■──────┼────────■────────■───────»\n",
       "     ├───┤│      │ │P(π)  │P(π/2)  │P(π/4)         │P(π/8)                   »\n",
       "q_7: ┤ X ├┤3     ├─■──────■────────■───────────────■─────────────────────────»\n",
       "     └───┘└──────┘                                                           »\n",
       "c: 4/════════════════════════════════════════════════════════════════════════»\n",
       "                                                                             »\n",
       "«                                                 \n",
       "«q_0: ────────■────────■──────────────────────────\n",
       "«             │        │                          \n",
       "«q_1: ─■──────┼────────┼──────────────────────────\n",
       "«      │      │        │                          \n",
       "«q_2: ─┼──────┼────────┼──────────────────────────\n",
       "«      │      │        │                          \n",
       "«q_3: ─┼──────┼────────┼──────────────────────────\n",
       "«      │      │        │P(π) ┌───────┐┌─┐         \n",
       "«q_4: ─┼──────┼────────■─────┤0      ├┤M├─────────\n",
       "«      │P(π)  │P(π/2)        │       │└╥┘┌─┐      \n",
       "«q_5: ─■──────■──────────────┤1      ├─╫─┤M├──────\n",
       "«                            │  IQFT │ ║ └╥┘┌─┐   \n",
       "«q_6: ───────────────────────┤2      ├─╫──╫─┤M├───\n",
       "«                            │       │ ║  ║ └╥┘┌─┐\n",
       "«q_7: ───────────────────────┤3      ├─╫──╫──╫─┤M├\n",
       "«                            └───────┘ ║  ║  ║ └╥┘\n",
       "«c: 4/═════════════════════════════════╩══╩══╩══╩═\n",
       "«                                      0  1  2  3 </pre>"
      ],
      "text/plain": [
       "                                                                             »\n",
       "q_0: ──────────────────────────────────────────────■─────────────────■───────»\n",
       "                                                   │                 │       »\n",
       "q_1: ──────────────────────────────■───────────────┼────────■────────┼───────»\n",
       "     ┌───┐                         │               │        │        │       »\n",
       "q_2: ┤ X ├────────────────■────────┼────────■──────┼────────┼────────┼───────»\n",
       "     ├───┤                │        │        │      │        │        │       »\n",
       "q_3: ┤ X ├─────────■──────┼────────┼────────┼──────┼────────┼────────┼───────»\n",
       "     └───┘┌──────┐ │      │        │        │      │        │        │       »\n",
       "q_4: ─────┤0     ├─┼──────┼────────┼────────┼──────┼────────┼────────┼───────»\n",
       "          │      │ │      │        │        │      │        │        │       »\n",
       "q_5: ─────┤1     ├─┼──────┼────────┼────────┼──────┼────────┼────────┼───────»\n",
       "     ┌───┐│  QFT │ │      │        │        │P(π)  │        │P(π/2)  │P(π/4) »\n",
       "q_6: ┤ X ├┤2     ├─┼──────┼────────┼────────■──────┼────────■────────■───────»\n",
       "     ├───┤│      │ │P(π)  │P(π/2)  │P(π/4)         │P(π/8)                   »\n",
       "q_7: ┤ X ├┤3     ├─■──────■────────■───────────────■─────────────────────────»\n",
       "     └───┘└──────┘                                                           »\n",
       "c: 4/════════════════════════════════════════════════════════════════════════»\n",
       "                                                                             »\n",
       "«                                                 \n",
       "«q_0: ────────■────────■──────────────────────────\n",
       "«             │        │                          \n",
       "«q_1: ─■──────┼────────┼──────────────────────────\n",
       "«      │      │        │                          \n",
       "«q_2: ─┼──────┼────────┼──────────────────────────\n",
       "«      │      │        │                          \n",
       "«q_3: ─┼──────┼────────┼──────────────────────────\n",
       "«      │      │        │P(π) ┌───────┐┌─┐         \n",
       "«q_4: ─┼──────┼────────■─────┤0      ├┤M├─────────\n",
       "«      │P(π)  │P(π/2)        │       │└╥┘┌─┐      \n",
       "«q_5: ─■──────■──────────────┤1      ├─╫─┤M├──────\n",
       "«                            │  IQFT │ ║ └╥┘┌─┐   \n",
       "«q_6: ───────────────────────┤2      ├─╫──╫─┤M├───\n",
       "«                            │       │ ║  ║ └╥┘┌─┐\n",
       "«q_7: ───────────────────────┤3      ├─╫──╫──╫─┤M├\n",
       "«                            └───────┘ ║  ║  ║ └╥┘\n",
       "«c: 4/═════════════════════════════════╩══╩══╩══╩═\n",
       "«                                      0  1  2  3 "
      ]
     },
     "execution_count": 14,
     "metadata": {},
     "output_type": "execute_result"
    }
   ],
   "source": [
    "phi_add(4).draw()"
   ]
  },
  {
   "cell_type": "code",
   "execution_count": 16,
   "id": "8b127f9c",
   "metadata": {},
   "outputs": [
    {
     "data": {
      "image/png": "[encoded data removed]",
      "text/plain": [
       "<Figure size 640x480 with 1 Axes>"
      ]
     },
     "execution_count": 16,
     "metadata": {},
     "output_type": "execute_result"
    }
   ],
   "source": [
    "t_qc = transpile(phi_add(4), aer_sim)\n",
    "counts = aer_sim.run(t_qc).result().get_counts()\n",
    "plot_histogram(counts)"
   ]
  },
  {
   "cell_type": "code",
   "execution_count": 19,
   "id": "19779e43",
   "metadata": {},
   "outputs": [
    {
     "data": {
      "text/plain": [
       "'1000'"
      ]
     },
     "execution_count": 19,
     "metadata": {},
     "output_type": "execute_result"
    }
   ],
   "source": [
    "max(counts, key=counts.get)"
   ]
  },
  {
   "cell_type": "code",
   "execution_count": 20,
   "id": "c13dc6dd",
   "metadata": {},
   "outputs": [],
   "source": [
    "#use built in Draper QFT adder\n",
    "from qiskit.circuit.library import DraperQFTAdder"
   ]
  },
  {
   "cell_type": "code",
   "execution_count": 21,
   "id": "54144733",
   "metadata": {},
   "outputs": [
    {
     "data": {
      "text/html": [
       "<pre style=\"word-wrap: normal;white-space: pre;background: #fff0;line-height: 1.1;font-family: &quot;Courier New&quot;,Courier,monospace\">     ┌─────────────────┐\n",
       "a_0: ┤0                ├\n",
       "     │                 │\n",
       "a_1: ┤1                ├\n",
       "     │                 │\n",
       "a_2: ┤2                ├\n",
       "     │  DraperQFTAdder │\n",
       "b_0: ┤3                ├\n",
       "     │                 │\n",
       "b_1: ┤4                ├\n",
       "     │                 │\n",
       "b_2: ┤5                ├\n",
       "     └─────────────────┘</pre>"
      ],
      "text/plain": [
       "     ┌─────────────────┐\n",
       "a_0: ┤0                ├\n",
       "     │                 │\n",
       "a_1: ┤1                ├\n",
       "     │                 │\n",
       "a_2: ┤2                ├\n",
       "     │  DraperQFTAdder │\n",
       "b_0: ┤3                ├\n",
       "     │                 │\n",
       "b_1: ┤4                ├\n",
       "     │                 │\n",
       "b_2: ┤5                ├\n",
       "     └─────────────────┘"
      ]
     },
     "execution_count": 21,
     "metadata": {},
     "output_type": "execute_result"
    }
   ],
   "source": [
    "DraperQFTAdder(3).draw()"
   ]
  },
  {
   "cell_type": "code",
   "execution_count": 22,
   "id": "685c2563",
   "metadata": {},
   "outputs": [
    {
     "data": {
      "text/html": [
       "<pre style=\"word-wrap: normal;white-space: pre;background: #fff0;line-height: 1.1;font-family: &quot;Courier New&quot;,Courier,monospace\">     ┌────────────────────┐\n",
       "a_0: ┤0                   ├\n",
       "     │                    │\n",
       "a_1: ┤1                   ├\n",
       "     │                    │\n",
       "a_2: ┤2                   ├\n",
       "     │  DraperQFTAdder_dg │\n",
       "b_0: ┤3                   ├\n",
       "     │                    │\n",
       "b_1: ┤4                   ├\n",
       "     │                    │\n",
       "b_2: ┤5                   ├\n",
       "     └────────────────────┘</pre>"
      ],
      "text/plain": [
       "     ┌────────────────────┐\n",
       "a_0: ┤0                   ├\n",
       "     │                    │\n",
       "a_1: ┤1                   ├\n",
       "     │                    │\n",
       "a_2: ┤2                   ├\n",
       "     │  DraperQFTAdder_dg │\n",
       "b_0: ┤3                   ├\n",
       "     │                    │\n",
       "b_1: ┤4                   ├\n",
       "     │                    │\n",
       "b_2: ┤5                   ├\n",
       "     └────────────────────┘"
      ]
     },
     "execution_count": 22,
     "metadata": {},
     "output_type": "execute_result"
    }
   ],
   "source": [
    "DraperQFTAdder(3).inverse().draw()"
   ]
  },
  {
   "cell_type": "code",
   "execution_count": 23,
   "id": "f6f86b21",
   "metadata": {},
   "outputs": [
    {
     "data": {
      "text/html": [
       "<pre style=\"word-wrap: normal;white-space: pre;background: #fff0;line-height: 1.1;font-family: &quot;Courier New&quot;,Courier,monospace\">     ┌───┐┌─────────────────┐         \n",
       "q_0: ┤ X ├┤0                ├─────────\n",
       "     ├───┤│                 │         \n",
       "q_1: ┤ X ├┤1                ├─────────\n",
       "     ├───┤│                 │         \n",
       "q_2: ┤ X ├┤2                ├─────────\n",
       "     ├───┤│  DraperQFTAdder │┌─┐      \n",
       "q_3: ┤ X ├┤3                ├┤M├──────\n",
       "     ├───┤│                 │└╥┘┌─┐   \n",
       "q_4: ┤ X ├┤4                ├─╫─┤M├───\n",
       "     ├───┤│                 │ ║ └╥┘┌─┐\n",
       "q_5: ┤ X ├┤5                ├─╫──╫─┤M├\n",
       "     └───┘└─────────────────┘ ║  ║ └╥┘\n",
       "c: 3/═════════════════════════╩══╩══╩═\n",
       "                              0  1  2 </pre>"
      ],
      "text/plain": [
       "     ┌───┐┌─────────────────┐         \n",
       "q_0: ┤ X ├┤0                ├─────────\n",
       "     ├───┤│                 │         \n",
       "q_1: ┤ X ├┤1                ├─────────\n",
       "     ├───┤│                 │         \n",
       "q_2: ┤ X ├┤2                ├─────────\n",
       "     ├───┤│  DraperQFTAdder │┌─┐      \n",
       "q_3: ┤ X ├┤3                ├┤M├──────\n",
       "     ├───┤│                 │└╥┘┌─┐   \n",
       "q_4: ┤ X ├┤4                ├─╫─┤M├───\n",
       "     ├───┤│                 │ ║ └╥┘┌─┐\n",
       "q_5: ┤ X ├┤5                ├─╫──╫─┤M├\n",
       "     └───┘└─────────────────┘ ║  ║ └╥┘\n",
       "c: 3/═════════════════════════╩══╩══╩═\n",
       "                              0  1  2 "
      ]
     },
     "execution_count": 23,
     "metadata": {},
     "output_type": "execute_result"
    }
   ],
   "source": [
    "qc=QuantumCircuit(6,3)\n",
    "qc.x(0)\n",
    "qc.x(1)\n",
    "qc.x(2)\n",
    "qc.x(3)\n",
    "qc.x(4)\n",
    "qc.x(5)\n",
    "qc.append(DraperQFTAdder(3),range(6))\n",
    "qc.measure(range(3,6),range(3))\n",
    "qc.draw()"
   ]
  },
  {
   "cell_type": "code",
   "execution_count": 24,
   "id": "0ec2ada4",
   "metadata": {},
   "outputs": [
    {
     "data": {
      "image/png": "[encoded data removed]",
      "text/plain": [
       "<Figure size 640x480 with 1 Axes>"
      ]
     },
     "execution_count": 24,
     "metadata": {},
     "output_type": "execute_result"
    }
   ],
   "source": [
    "t_qc = transpile(qc, aer_sim)\n",
    "counts = aer_sim.run(t_qc).result().get_counts()\n",
    "plot_histogram(counts)"
   ]
  },
  {
   "cell_type": "code",
   "execution_count": 25,
   "id": "4dde9cdb",
   "metadata": {},
   "outputs": [
    {
     "data": {
      "text/html": [
       "<pre style=\"word-wrap: normal;white-space: pre;background: #fff0;line-height: 1.1;font-family: &quot;Courier New&quot;,Courier,monospace\">          ┌───────────────────┐         \n",
       "q_0: ─────┤0                  ├─────────\n",
       "     ┌───┐│                   │         \n",
       "q_1: ┤ X ├┤1                  ├─────────\n",
       "     ├───┤│                   │         \n",
       "q_2: ┤ X ├┤2                  ├─────────\n",
       "     ├───┤│                   │         \n",
       "q_3: ┤ X ├┤3 c_DraperQFTAdder ├─────────\n",
       "     ├───┤│                   │┌─┐      \n",
       "q_4: ┤ X ├┤4                  ├┤M├──────\n",
       "     ├───┤│                   │└╥┘┌─┐   \n",
       "q_5: ┤ X ├┤5                  ├─╫─┤M├───\n",
       "     ├───┤│                   │ ║ └╥┘┌─┐\n",
       "q_6: ┤ X ├┤6                  ├─╫──╫─┤M├\n",
       "     └───┘└───────────────────┘ ║  ║ └╥┘\n",
       "c: 3/═══════════════════════════╩══╩══╩═\n",
       "                                0  1  2 </pre>"
      ],
      "text/plain": [
       "          ┌───────────────────┐         \n",
       "q_0: ─────┤0                  ├─────────\n",
       "     ┌───┐│                   │         \n",
       "q_1: ┤ X ├┤1                  ├─────────\n",
       "     ├───┤│                   │         \n",
       "q_2: ┤ X ├┤2                  ├─────────\n",
       "     ├───┤│                   │         \n",
       "q_3: ┤ X ├┤3 c_DraperQFTAdder ├─────────\n",
       "     ├───┤│                   │┌─┐      \n",
       "q_4: ┤ X ├┤4                  ├┤M├──────\n",
       "     ├───┤│                   │└╥┘┌─┐   \n",
       "q_5: ┤ X ├┤5                  ├─╫─┤M├───\n",
       "     ├───┤│                   │ ║ └╥┘┌─┐\n",
       "q_6: ┤ X ├┤6                  ├─╫──╫─┤M├\n",
       "     └───┘└───────────────────┘ ║  ║ └╥┘\n",
       "c: 3/═══════════════════════════╩══╩══╩═\n",
       "                                0  1  2 "
      ]
     },
     "execution_count": 25,
     "metadata": {},
     "output_type": "execute_result"
    }
   ],
   "source": [
    "qc=QuantumCircuit(7,3)\n",
    "#qc.x(0)\n",
    "qc.x(1)\n",
    "qc.x(2)\n",
    "qc.x(3)\n",
    "qc.x(4)\n",
    "qc.x(5)\n",
    "qc.x(6)\n",
    "qc.append(DraperQFTAdder(3).control(),range(7))\n",
    "qc.measure(range(4,7),range(3))\n",
    "qc.draw()"
   ]
  },
  {
   "cell_type": "code",
   "execution_count": 26,
   "id": "62985dde",
   "metadata": {},
   "outputs": [
    {
     "data": {
      "image/png": "[encoded data removed]",
      "text/plain": [
       "<Figure size 640x480 with 1 Axes>"
      ]
     },
     "execution_count": 26,
     "metadata": {},
     "output_type": "execute_result"
    }
   ],
   "source": [
    "t_qc = transpile(qc, aer_sim)\n",
    "counts = aer_sim.run(t_qc).result().get_counts()\n",
    "plot_histogram(counts)"
   ]
  }
 ],
 "metadata": {
  "kernelspec": {
   "display_name": "quantum",
   "language": "python",
   "name": "python3"
  },
  "language_info": {
   "codemirror_mode": {
    "name": "ipython",
    "version": 3
   },
   "file_extension": ".py",
   "mimetype": "text/x-python",
   "name": "python",
   "nbconvert_exporter": "python",
   "pygments_lexer": "ipython3",
   "version": "3.13.1"
  }
 },
 "nbformat": 4,
 "nbformat_minor": 5
}
